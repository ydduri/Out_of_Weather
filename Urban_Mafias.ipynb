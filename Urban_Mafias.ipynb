{
 "cells": [
  {
   "attachments": {},
   "cell_type": "markdown",
   "metadata": {},
   "source": [
    "### **Urban Mafias**\n",
    "\n",
    "##### Object: '평균'의 함정에서 벗어나기 - 도심 지역, 교외 지역 지구 온난화 효과 비교"
   ]
  },
  {
   "cell_type": "code",
   "execution_count": 2,
   "metadata": {},
   "outputs": [],
   "source": [
    "### Calling packages\n",
    "\n",
    "\n",
    "import requests\n",
    "import numpy as np\n",
    "import pandas as pd\n",
    "import matplotlib.pyplot as plt\n",
    "import os\n",
    "from scipy import stats\n",
    "import plotly.express as px"
   ]
  },
  {
   "cell_type": "code",
   "execution_count": null,
   "metadata": {},
   "outputs": [],
   "source": [
    "### Data Auto-Downloading code\n",
    "# data source: NCEI(National Centers for Environmental Information)\n",
    "\n",
    "\n",
    "years = np.arange(1970, 2021)\n",
    "\n",
    "station = 'Paris'           # station 위치가 바뀌면 그에 따라 정보 바꿔주기\n",
    "station_n = '07149099999'\n",
    "nation = 'France'\n",
    "\n",
    "for year in years:\n",
    "    url = 'https://www.ncei.noaa.gov/data/global-summary-of-the-day/access/' + str(year) + '/{}.csv'.format(station_n)\n",
    "    r = requests.get(url, allow_redirects=True)\n",
    "    open(station + str(year) + '.csv', 'wb').write(r.content)"
   ]
  },
  {
   "attachments": {},
   "cell_type": "markdown",
   "metadata": {},
   "source": [
    "##### Code ver.1"
   ]
  },
  {
   "cell_type": "code",
   "execution_count": null,
   "metadata": {},
   "outputs": [],
   "source": [
    "# 다운로드한 data 중 연도별로 평균한 후 그 값들을 T_avg list에 저장\n",
    "\n",
    "\n",
    "T_avg=[]\n",
    "\n",
    "for i in years:\n",
    "    file_r = open('/content/{}'.format(station)+str(i)+'.csv', 'r')\n",
    "    \n",
    "    log = file_r.readline().strip().split(',')\n",
    "    lines = file_r.readlines()\n",
    "    n_data = len(lines)\n",
    "    \n",
    "    TEMP=[]\n",
    "\n",
    "    for j in range(n_data-6):\n",
    "        temp = lines[j].strip().split('\\\"')\n",
    "        TEMP.append(temp[13])\n",
    "        T_a = np.array(TEMP).astype(np.float)\n",
    "    \n",
    "    T_avg.append((np.average(T_a)-32)*5/9) # Fahrenheit -> Celsius\n",
    "\n",
    "print(T_avg)"
   ]
  },
  {
   "cell_type": "code",
   "execution_count": null,
   "metadata": {},
   "outputs": [],
   "source": [
    "# 연도 list 생성\n",
    "\n",
    "\n",
    "D=[]\n",
    "for d in range(1950, 2021):\n",
    "  D.append(d)"
   ]
  },
  {
   "cell_type": "code",
   "execution_count": null,
   "metadata": {},
   "outputs": [],
   "source": [
    "T_data={\n",
    "    \"Temperature\": T_avg,      # y값에 들어갈 온도(T_avg)\n",
    "    \"Time\": D                  # x값에 들어갈 연도(D)\n",
    "}\n",
    "\n",
    "df=pd.DataFrame(data=T_data)\n",
    "\n",
    "fit_weight=np.polyfit(df['Temperature'],df[\"Time\"],1)\n",
    "trend_f=np.poly1d(fit_weight)  # 추세선\n",
    "\n",
    "plt.figure(figsize=(10, 6))\n",
    "plt.plot(D, T_avg, 'r', label = 'Original data')\n",
    "plt.plot(trend_f(df['Temperature']), df['Temperature'], 'b', label='Slope={:.6f}'.format(fit_weight[0]))\n",
    "plt.title('Yearly Average Temperature Time Series of {0}, {1}'.format(station, nation))\n",
    "plt.xlabel('Time')\n",
    "plt.ylabel('Temperature [$^o$C]')\n",
    "plt.legend(fontsize=8)\n",
    "plt.show()"
   ]
  },
  {
   "attachments": {},
   "cell_type": "markdown",
   "metadata": {},
   "source": [
    "##### Code ver.2"
   ]
  },
  {
   "cell_type": "code",
   "execution_count": null,
   "metadata": {},
   "outputs": [],
   "source": [
    "# 함수를 정의해서 사용하기\n",
    "\n",
    "\n",
    "# missing value: 9999.9\n",
    "# Temperature unit: Fahrenheit\n",
    "\n",
    "\n",
    "def gen_temp_ts(station):\n",
    "    year_list = np.linspace(1970, 2020, 51)\n",
    "    Temp = np.zeros(51)\n",
    "\n",
    "    for year in range(1970, 2021):\n",
    "        print(year)\n",
    "        \n",
    "\n",
    "        # 결측치를 대비해 연도별 평균 온도 array인 Temp에 NaN 대입\n",
    "        Avg = np.nan\n",
    "        Temp[year - 1970] = Avg\n",
    "\n",
    "\n",
    "        # 에러처리 파트: 해당 연도의 제대로 된 csv 파일이 존재할 경우 그 파일을 불러오고 그렇지 않을 경우 다음 연도로 넘어가기\n",
    "        try:\n",
    "            df = pd.read_csv(os.path.join(r'%s%d.csv' % (station, year))) \n",
    "            file = np.array(df)\n",
    "        except IOError as e:\n",
    "            continue\n",
    "\n",
    "\n",
    "        # 연평균 온도 구하기 위해 해당 연도의 일수 체크하는 과정\n",
    "        day_num = np.shape(file[:, 6])[0]\n",
    "        print(day_num, end=', ')\n",
    "\n",
    "\n",
    "        # 결측치로 인해 의미 있는 평균 온도를 구할 수 있는 날이 360일을 넘지 않는다면 아래 코드 실행하지 않고 건너뜀\n",
    "        if day_num < 360:\n",
    "            continue\n",
    "\n",
    "\n",
    "        # 결측치 혹은 이상치가 있을 경우 9999.9 대입, 연평균 온도 구할 때 해당 값을 제외하고 구하기\n",
    "        Sum = 0\n",
    "        for row_index in range(day_num):\n",
    "            if file[row_index, 6] == 9999.9:\n",
    "                day_num -= 1\n",
    "                continue\n",
    "            Sum += (file[row_index, 6] - 32) * 5 / 9  # Fahrenheit -> Celsius\n",
    "        Avg = Sum / day_num\n",
    "        print(Avg)\n",
    "        Temp[year - 1970] = Avg\n",
    "\n",
    "\n",
    "    # 1970~2020 평균 온도를 기준값으로 하여 차이 구하기(온도 상승 폭을 고려)\n",
    "    ref_temp = np.nanmean(Temp)\n",
    "    print(ref_temp)\n",
    "    \n",
    "\n",
    "    # NaN을 제외하고 선형 추세선 그리기\n",
    "    mask = ~np.isnan(year_list) & ~np.isnan(Temp)\n",
    "    # stats.linregress: 기울기, y절편 및 기타 통계적 상수 구할 수 있는 함수\n",
    "    slope, intercept, r_value, p_value, std_err = stats.linregress(year_list[mask], Temp[mask])\n",
    "\n",
    "\n",
    "    # Make plot\n",
    "    plt.figure(figsize=(10,6))\n",
    "    plt.plot(year_list, Temp - ref_temp, 'r', label='Original data')\n",
    "    regression_line = slope * year_list + intercept - ref_temp\n",
    "    plt.plot(year_list, regression_line, 'b', label='Slope = {:.6f}'.format(slope))\n",
    "    plt.title('Yearly Average Temperature Time Series of %s, Japan' % station)\n",
    "    plt.xlabel('Time')\n",
    "    plt.ylabel('Temperature [$^o$C]')\n",
    "    plt.ylim(ymax=2, ymin=-2)\n",
    "    plt.legend(fontsize=8)\n",
    "    plt.savefig(r'D:\\%s_warming_time_series.png' % station)\n",
    "    plt.show()"
   ]
  },
  {
   "cell_type": "code",
   "execution_count": null,
   "metadata": {},
   "outputs": [],
   "source": [
    "# 온도 추세를 보고자 하는 관측소의 정보가 담긴 dictionary 생성\n",
    "\n",
    "\n",
    "station_dict = {'Mishima': 47657, 'Tokyo': 47662, 'Mito': 47629, 'Chiba': 47682, 'Omaezaki': 47655, 'Shizuoka': 47656}\n",
    "# station_dict = {'Sidney': 94768, 'Nowra': 94750, 'Woomera': 94659, 'williamtown': 94776}\n",
    "# station_dict = {'Moscow': 27612, 'Elatma': 27648, 'Pavelec': 27823, 'Vologda': 27037, 'Kazan': 27595}\n",
    "\n",
    "\n",
    "# 앞서 만든 함수 적용\n",
    "\n",
    "for station in station_dict.keys():\n",
    "    print(station)\n",
    "    gen_temp_ts(station)"
   ]
  },
  {
   "cell_type": "code",
   "execution_count": null,
   "metadata": {},
   "outputs": [],
   "source": [
    "### Clearing files code\n",
    "\n",
    "\n",
    "for station in station_dict.keys():\n",
    "    for year in range(1970, 2021):\n",
    "        os.remove('%s%d.csv' % (station, year))"
   ]
  }
 ],
 "metadata": {
  "kernelspec": {
   "display_name": "base",
   "language": "python",
   "name": "python3"
  },
  "language_info": {
   "codemirror_mode": {
    "name": "ipython",
    "version": 3
   },
   "file_extension": ".py",
   "mimetype": "text/x-python",
   "name": "python",
   "nbconvert_exporter": "python",
   "pygments_lexer": "ipython3",
   "version": "3.9.12 (main, Apr  5 2022, 06:56:58) \n[GCC 7.5.0]"
  },
  "orig_nbformat": 4,
  "vscode": {
   "interpreter": {
    "hash": "5be35f2e2fb6a33c998b605ceb556a15ef4cec1e92c31780438adb4cd1649681"
   }
  }
 },
 "nbformat": 4,
 "nbformat_minor": 2
}
